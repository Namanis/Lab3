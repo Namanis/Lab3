{
 "cells": [
  {
   "cell_type": "code",
   "execution_count": 4,
   "metadata": {},
   "outputs": [
    {
     "name": "stdout",
     "output_type": "stream",
     "text": [
      "BABBBBBBBBBBGGGGF;BBFFFFFFFFFFFFFFFFFFFFFFFFFFFFFFFFFFFFFFFFFFFFFFEFFFAFFFFFFFFFFFFFFFFFFFFFFFFFF-BF9ADFFFFAFFFFF;AFFFFDF/FFFFFFFCDAEFFFFF=@AFFFFDFFFFF\n",
      "CCDDCCCDDCDCGGGGGGGGGGGGGGGGGGGGGHGGGGGGGGGGGGGGGGGGGAGHHHHHGDGGGGGHHHHHGGGGGHHGBHHHGHHHGGGGGGGGGGGGFFFFFFFFFFFFFFFFFFFFFAFFFFFFFFFFFFFF?FEFFFFFFFFFFF>\n",
      "BCCCCFFFFFFFGGGGGGGGGGHGHHHHHHHGHHGGGGGGGGGGGGGGGGHHHHHHHHGGGEFGHHHHHGGGGGHHHGHHGGHGG//<B//////------<-<:@DC;F;;FFC---99------;-9---.//....;AAAD=------\n",
      "BBBBBBBBBBFBGGGGGGGGGGGCGFGGGFGGHFGGGGHGGGGGHGHHHGHHEGGGGGCFDGHGHFGGGDHGGGGGGFCFGGGGG?=D.//9/9B>B-DEAFFD9-;-B-99-9-.9F.999@F-9BFF---@--BFFF;->-9>---9;@\n",
      "CCCCCCCCBCCCGGGGGGGGGGHHHGGGGGGGGGGGGCAFGGGGGGGHHFFAHGGHHHHHFGGGGGFFFFFFFFFFFAFFAEFFFFFFFFFAFFFFBFFFFDFDF?FFEFFFFFFF?DEAEFAF-FFFDFFFC-@CFDFFFFD.D.A.>FF\n",
      "DDDDCCCCDDCCGGGGGGGGGGGGGHHHHGHFEHHHH10EGGG///EE?///0///////?F///<--<--9-?A>BA@DFFFFF---<-@DFF;---@FFFDA=DFFFFF-9D;@-<<@@BB=FF---...--<->-@>-----------\n",
      "BBBBBFFBBBBBGGGGGGGEEGG/<--@-;CG-9--;=00:C.:.:.9.9....9..9/9AF-9B-9@-...;--9@BB-@BB-9@BBBB--....:.-9B-9---9@B--9A./;FF.----9-.../;-9@--9B---99-;BB-----\n",
      "BCCCCAABBBCCGGGGGGGGGGHHHHHHGGGGAEF/////>?/?E//?//////B/?DGG-@F--9..A.9/..9B/0:/0.:D----;---9--@-=--9-:.:;00/0:.-:-=--@A-:@---.:;.9D---.:-9.:-.:--:--:-\n",
      ">1A?ADDD1AAAAE0FGFGEFFEEGGGGCCE/E//>EEG?ECHHBGFC/CG@//?0>-A:;--9..9A?A;--;---;-9-A---9--;-----9-9-@@-9----;-----9----9-9--99------9-9---9;----;9-;--9\n",
      "EEEEEFFFFFFDGGGGGGGGGGGGHHHHHHHHHHHHHHHHHHHGGGG0EEGGG01AEEGGG//11///F/??//ECEGG//?C/F/><<@-<-:-99>--.<.------@B---<@-..9<ADAF-@-<@BD;D-=A--------<-----\n",
      "CCCCCFFCCCCCGGGGGGGGGGGHGGGGGGGGGFGGGGGHGHHHHHHGGGGGGGGHGGGGGGGGGGGGGGHHHGHGGGGGGGGGGGGGGGGFFFAFFFFFFFFFFFFFFFFFEFFFFF=DF/BD:.BFFFAC@-:@---:;B---@@C;D-\n",
      "CCCCCCCCCCCCGGGGGGGGGGGGGHHHGGGGGGGGGGGGGGGGHHGGGGGGHHFGGGGGGGGGGGHHGG@FGGGHGGGGGHGHGGGGGGGGGGGGGGGFFFFFFFFFFAFDFFFFFFFFFFFFCEFFFFFFFFFFCFFC.EFFFCFAA\n",
      "ABBBBB3ADABFGCGGGGGGGEGGGG00E1AE>113BB>EF////////>C---;-./;///;.-9..9/---;-@--9--;>----9--;9-9;--.;/;/99-.99@-----99-9-9;.;9:.9-;.///.-.9.A>---9-9--99-\n",
      "CCCCCCCCCCCFGGGGGGGGGGGGHHHHHHHGHHGHHHHHGGGGGGGGGGGGGGGGGGGGGHHHGGGGGGGGGGGGGGGGGGGGGGGGGGGGGGGGGFFFFFFFCDFFFFFFFFFFFFFFFFFFFFFFFFFFFFFFFFFAFFFFFFFFFFF\n",
      "BBBBBFFFBBBBGGGGGGGE0>BBF--@------9-----../9.9A>-----;BFFB=@F>--;----.9..------9-9---9@F=---..9/9;--9-------9@DFFFF;-@FFF;-@@--;=--9-@-9;-=CCFFFFF;-BF=\n",
      "BBBBBFFBBBBBGGGGGGGGGE>>E/>E/</<B//>/00?/CGG-<..C..A.-AB-;.9...;@BB----;B-9A.9@-9-99B--9-;D.;9-9@-9B-9AE./.:A.;.9;D-..///99B--;.:/9/;FF--.9.9A-9-99----\n",
      "CCBCCCCCCCCFGGGGGGGGGGGGGGGHGGGGGGGGGGGGGGGGGGFGGGHGGGHGHHHGGHFGGHHGGGGGGGGGGFFFFFFFFFFF;EFFFFFFFFFFFBFFFFFFFFFDFFFFFFFFFFFFFFDFFFFFF@BF:EE9AFCFA-9:BD.\n",
      "CCCCCFFFFCCBGGGGGGGGGGEGGGGGGHHHHGHHHGGGGGHGHHGHHGGGGGGGGHHHGGGGGHHHHHHGGGGGGGHGGGGDFGGGFGGGGGGFEDDGGFF;---9-------;CBB--.-----;:--------------:--.:.--\n",
      "CCCCCCCFFFFFGGGGGGGGGGGGEEG0?G@EEEEEE/</BFGGGG//<</>/-<A-<CGG-:--.;E.9--;D--9-;@-:-:B------;---..;:9:9F./://BF.:@=-;-9;-;B-.A...9:-..;.;E.;-;@-:-:>BFF-\n",
      "AAAAAAA1AAAAGGCE?0EEGF00GHB/EFGAAEG/A?EEG/EEGG?//@E/E/EGEGDDGFGG/<CCG/?FDGF2FGHG//CCG--CG-///..;..;.C:--..;9C.9A-9----;--;-9;@?@--@;@;=-9;@;--99@--9-A@\n",
      "BCCCCCCCCCCCGGGGGGGGGGGGGGGGGHHHGGGGGGGHHHHGHHGHHGHHHHHGGGGGGGGGGGGGGGGGCFGGGGGFBFAFFF--@AFBFBEAFFFFFFFE0;DCF.:EFA.;=BFF@BFFF-9@.;A.FFF0BFF;-9-.0ADF--9\n",
      "CCCDDDDCBCFFGGGGGGGGEGGGGGGGGGGGGGHGGGGGGGGGGGGGHGGGGGGHHHHHGGGGG--BFFF---<9:0</.<.9<D.<D.<CFF../:BF.<@--9F0B<BFFFF--</<00:0B-@B--/00<..<-9@-<@-9@--<--\n",
      "ABCCBBBAABCCGGGGGGGGGGGGGGGGHHHGGGGHHHGHHHHHHHHHGHHHGHHGGG>>13/>//>////?0</0?////<//??//C//-<A--<@----99CE9-./9//.9E------;-:-:---:...-9-----:--9@-@---\n",
      "DDDDDFFFDDFDGGGGGGGGGGGGGGGGGGGGGGGGGGGGGGGGGGGGGGGGGHHGGGGGHGGGGGGGGGGGGGCGCGGGGGBGGGGGGGGFAF@DFDF@FBFFFEFFBFFFFFFFFFCFFFFFFFFFEFFEC>FFFFFFFFFFFF-@<-9\n",
      "DDDDCCCCCCCDGGGGGGGGGGGGHHHHHHGGGGHHHHHGGGGGGGGGGGG/AB-9B-<B-<--<0B0<DFFFFF--<DF--9B../B:-<B--9CF-->BF-9A9=<---.0:0/::000<.99@=--C-----<BD--.:0/AAAA---\n",
      "EEEEEEFFCDEDGGGGGGGGGGHHHHHHHGGGGGGGGGGGGGGG>/>@-9----./:/.------<BFF=----.00<.-9<---<@-9<;-B--------<---9@@>--@B---9...<<BCF=B------<---<--<-@;-9--.--\n",
      "BBCCCFCCCCCCGGGGGGGGGGHFHHHHHGHHGGGGGGGGGGGG>//<B@------@A-;9@:-9--:-->BFFFAB--->BDB----@----9-9-9-..:AD.--------9@9-----9.9.---;-@->>>=FF-C--9-9...-\n",
      "CCCDCCFFFFFCGGGGGGGGGGHHHHHGHHHGGGGGGGGGGGGGCGHGGGGGGGGGGGGCC@@F@@?.@D@@BGFF-A..0:.@9A-9AF.9/:9..-@-:--:-;@--;.000;:.;.--;-;@--:-;CD;;-9@-9...---:--9..\n",
      "CCCCBCCFCFFCGGGGGGGGGGGGGGHHHHHHGGGGGGGHHHGGGGHHHGGGGGFGGGGGGGHCCGGGGHHGHGGGGGCGCDHHGGGGGGGGAFGGGGGGGFGGGGFAFFFFFFFFFFFAFFFFFFFFFFFFFFFFFFFFFFF=.E.DAFF\n",
      "AAAAAABAA?AA2A2EAECAAA2BFE?E2AEEEGG/EGEGCEEEFCGG?@CDGC?//DF?F?/?FF0FB.FC--><-?CCGGC.C.D?GD?DAAE..A/.AEA9FFFFGG?-;ADBB;?9B99@?D;BB?<<B<FBB?-->----A/BBDA\n",
      "CCCCCCCCCCCCGGGGGGGGGGGGGGGGGGHHHHHHHHHGGGGGGGGGGGGGHHHHGGGHHGGGGGGGGGHGGGEEDGGGGGGGGGGGCDGHHHGGGGGGGGGGGGGGGGGGGGFFFFFFCFFFFFFFFFFFFFFFFFFFFFFFFAFFFAF\n",
      "ABBAABBBBBBBGGGEGGGFGGGHGGGHHHHHHGHFDHGGGGG/E>/?FGG//?EEH///BDCH/<<@?CFAGGG0CFGG-D:-@?DF-AB..C@FFAFF/A;DA--;B9..9.F//9.-@CFCADF-9=-9-99>----99.9--9@-.:\n",
      "BBBBBFFFCF?BGGCGFEGFGGHFHHCEEEGGGGGGGA1GCEFGGCEEEEGG@/EGG?@@/C/CCCDGGD@?CDGGGGFAFAE.ADDFEDFDDEAAEE?EE;-=;D:A..AA?ADA-D?FFED;-@-;A-A.-.;D.B/--;;-@9@-9/9\n",
      "CDDCCCDCCDDCGGGGGGGGGGHGHGGGGHHHHHHHHHHHGHHHHGGGGGGHGGGG>/////?/<B--:-9;B----:@99-./00..--.:000;//-;-9;DFFA9-9-......--:9:@=@-9....9-.;.:>-@BDF--:--...\n",
      "AAABBBBBBBBBGGGGGGFGGGGGHHHGGHHHC2?EEGG0E0>EEGGGG/////<//22//<B/<<CFFFGG---<<D--;D-----;B--------9...;----99-..;-@-.9.--;--9AF.--9-:-9../9//9----.:;9--\n",
      "CDCCCCBCCDBBGGGGGGGGGGHHHHGHHGGGGHGGGGGGGGHGHHGGHHGGHHGGGGGGGGGGGGGFGG--><00GGG-:C-:D.;.E.-:DF-9@-9@F-;--@F--:9B09.-;-;@--9-.-:------:-9-;:-;..;--;@-9B\n",
      "11>AAAFFFFFF1EA10EGGE/@EEG/01FB/>//>EE/////B//</CHA</A//<.<<0100<<FGE?----;.;C:/:C;..::C/.9A?@@-->@-@-----//--;9---:----ABAB//---;@---;-----;----99-9--\n"
     ]
    }
   ],
   "source": [
    "# Open the Fastq file\n",
    "with open(\"reads_for_analysis.fastq\", \"r\") as f:\n",
    "  # Initialize variables to store the data\n",
    "  reads = []\n",
    "  cg_percentages = []\n",
    "  \n",
    "  # Read the file, one read at a time\n",
    "  while True:\n",
    "    # Read the first line (sequence identifier)\n",
    "    seq_id = f.readline().strip()\n",
    "    \n",
    "    # Break out of the loop if we have reached the end of the file\n",
    "    if not seq_id:\n",
    "      break\n",
    "      \n",
    "    # Read the second line (sequence data)\n",
    "    seq_data = f.readline().strip()\n",
    "    \n",
    "    # Read the third line (quality score identifier)\n",
    "    qual_id = f.readline().strip()\n",
    "    \n",
    "    # Read the fourth line (quality score data)\n",
    "    qual_data = f.readline().strip()\n",
    "    \n",
    "    # Calculate the percentage of C/G nucleotides in the sequence data\n",
    "    cg_count = seq_data.count(\"C\") + seq_data.count(\"G\")\n",
    "    cg_percentage = cg_count / len(seq_data) * 100\n",
    "    if(cg_percentage>80):\n",
    "        print(seq_data)\n",
    "    \n",
    "    # Add the read data to the lists\n",
    "    reads.append(seq_id)\n",
    "    cg_percentages.append(cg_percentage)\n",
    "\n",
    "# Import the matplotlib library for plotting\n",
    "# import matplotlib.pyplot as plt\n",
    "\n",
    "# # Create the bar plot\n",
    "# plt.bar(reads, cg_percentages)\n",
    "\n",
    "# # Add labels to the axes\n",
    "# plt.xlabel(\"Reads\")\n",
    "# plt.ylabel(\"C/G Percentage\")\n",
    "\n",
    "# # Show the plot\n",
    "# plt.show()"
   ]
  }
 ],
 "metadata": {
  "kernelspec": {
   "display_name": "Python 3",
   "language": "python",
   "name": "python3"
  },
  "language_info": {
   "codemirror_mode": {
    "name": "ipython",
    "version": 3
   },
   "file_extension": ".py",
   "mimetype": "text/x-python",
   "name": "python",
   "nbconvert_exporter": "python",
   "pygments_lexer": "ipython3",
   "version": "3.10.9"
  },
  "orig_nbformat": 4,
  "vscode": {
   "interpreter": {
    "hash": "5c4bf63c25f788ccbe3207ff8c79842dc5f093491509585e20ef4571f6c78ca3"
   }
  }
 },
 "nbformat": 4,
 "nbformat_minor": 2
}
